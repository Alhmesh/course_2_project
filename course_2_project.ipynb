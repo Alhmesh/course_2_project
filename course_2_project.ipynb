{
  "nbformat": 4,
  "nbformat_minor": 0,
  "metadata": {
    "colab": {
      "provenance": [],
      "authorship_tag": "ABX9TyPVKI4p7gXXYXmtcv5o9H1b",
      "include_colab_link": true
    },
    "kernelspec": {
      "name": "python3",
      "display_name": "Python 3"
    },
    "language_info": {
      "name": "python"
    }
  },
  "cells": [
    {
      "cell_type": "markdown",
      "metadata": {
        "id": "view-in-github",
        "colab_type": "text"
      },
      "source": [
        "<a href=\"https://colab.research.google.com/github/Alhmesh/course_2_project/blob/main/course_2_project.ipynb\" target=\"_parent\"><img src=\"https://colab.research.google.com/assets/colab-badge.svg\" alt=\"Open In Colab\"/></a>"
      ]
    },
    {
      "cell_type": "code",
      "execution_count": null,
      "metadata": {
        "id": "IzHeMBS1d0EQ"
      },
      "outputs": [],
      "source": [
        "#We have provided some synthetic (fake, semi-randomly generated) twitter data in a csv file named project_twitter_data.csv which has the text of a tweet,\n",
        "#the number of retweets of that tweet, and the number of replies to that tweet. We have also words that express positive sentiment and negative sentiment, in the files positive_words.txt and negative_words.txt.\n",
        "#Your task is to build a sentiment classifier, which will detect how positive or negative each tweet is. You will create a csv file, which contains columns for the Number of Retweets,\n",
        "#Number of Replies, Positive Score (which is how many happy words are in the tweet), Negative Score (which is how many angry words are in the tweet), and the Net Score for each tweet. At the end,\n",
        "#you upload the csv file to Excel or Google Sheets, and produce a graph of the Net Score vs Number of Retweets.\n",
        "#To start, define a function called strip_punctuation which takes one parameter, a string which represents a word,\n",
        "#and removes characters considered punctuation from everywhere in the word. (Hint: remember the .replace() method for strings.)\n",
        "\n",
        "punctuation_chars = [\"'\", '\"', \",\", \".\", \"!\", \":\", \";\", '#', '@']\n",
        "\n",
        "def strip_punctuation(words):\n",
        "    for word in words:\n",
        "        if word in punctuation_chars:\n",
        "            words = words.replace(word, \"\")\n",
        "    return words"
      ]
    },
    {
      "cell_type": "code",
      "source": [
        "#Next, copy in your strip_punctuation function and define a function called get_pos which takes one parameter,\n",
        "#a string which represents one or more sentences, and calculates how many words in the string are considered positive words. Use the list,\n",
        "#positive_words to determine what words will count as positive. The function should return a positive integer - how many occurrences there are of positive words in the text.\n",
        "#Note that all of the words in positive_words are lower cased, so you’ll need to convert all the words in the input string to lower case as well.\n",
        "\n",
        "\n",
        "punctuation_chars = [\"'\", '\"', \",\", \".\", \"!\", \":\", \";\", '#', '@']\n",
        "# list of positive words to use\n",
        "positive_words = []\n",
        "with open(\"positive_words.txt\") as pos_f:\n",
        "    for lin in pos_f:\n",
        "        if lin[0] != ';' and lin[0] != '\\n':\n",
        "            positive_words.append(lin.strip())\n",
        "\n",
        "\n",
        "def get_pos(pos):\n",
        "    pos_counter = 0\n",
        "    pos_words = pos.split()\n",
        "    for pos_word in pos_words:\n",
        "        pos_word = strip_punctuation(pos_word)\n",
        "        if pos_word.lower() in positive_words:\n",
        "            pos_counter += 1\n",
        "    return pos_counter\n",
        "\n",
        "def strip_punctuation(words):\n",
        "    for word in words:\n",
        "        if word in punctuation_chars:\n",
        "            words = words.replace(word, \"\")\n",
        "    return words\n"
      ],
      "metadata": {
        "id": "maNI_rkXeC-q"
      },
      "execution_count": null,
      "outputs": []
    },
    {
      "cell_type": "code",
      "source": [
        "#Next, copy in your strip_punctuation function and define a function called get_neg which takes one parameter,\n",
        "#a string which represents one or more sentences, and calculates how many words in the string are considered negative words. Use the list,\n",
        "#negative_words to determine what words will count as negative. The function should return a positive integer - how many occurrences there are of negative words in the text.\n",
        "#Note that all of the words in negative_words are lower cased, so you’ll need to convert all the words in the input string to lower case as well.\n",
        "\n",
        "\n",
        "punctuation_chars = [\"'\", '\"', \",\", \".\", \"!\", \":\", \";\", '#', '@']\n",
        "\n",
        "negative_words = []\n",
        "with open(\"negative_words.txt\") as pos_f:\n",
        "    for lin in pos_f:\n",
        "        if lin[0] != ';' and lin[0] != '\\n':\n",
        "            negative_words.append(lin.strip())\n",
        "\n",
        "def get_neg(neg):\n",
        "    neg_counter = 0\n",
        "    neg_words = neg.split()\n",
        "    for neg_word in neg_words:\n",
        "        neg_word = strip_punctuation(neg_word)\n",
        "        if neg_word in negative_words:\n",
        "            neg_counter += 1\n",
        "    return neg_counter\n",
        "\n",
        "def strip_punctuation(words):\n",
        "    for word in words:\n",
        "        if word in punctuation_chars:\n",
        "            words = words.replace(word, \"\")\n",
        "    return words\n"
      ],
      "metadata": {
        "id": "3lxnFOC5eLJP"
      },
      "execution_count": null,
      "outputs": []
    },
    {
      "cell_type": "code",
      "source": [
        "#Finally, copy in your previous functions and write code that opens the file project_twitter_data.csv which has the fake generated twitter data (the text of a tweet, the number of retweets of that tweet, and the number of replies to that tweet).\n",
        "#Your task is to build a sentiment classifier, which will detect how positive or negative each tweet is. Copy the code from the code windows above, and put that in the top of this code window.\n",
        "#Now, you will write code to create a csv file called resulting_data.csv, which contains the Number of Retweets, Number of Replies, Positive Score (which is how many happy words are in the tweet),\n",
        "#Negative Score (which is how many angry words are in the tweet), and the Net Score (how positive or negative the text is overall) for each tweet. The file should have those headers in that order.\n",
        "#Remember that there is another component to this project. You will upload the csv file to Excel or Google Sheets and produce a graph of the Net Score vs Number of Retweets. Check Coursera for that portion of the assignment,\n",
        "#if you’re accessing this textbook from Coursera.\n",
        "\n",
        "def get_pos(pos):\n",
        "    pos_counter = 0\n",
        "    pos_words = pos.split()\n",
        "    for pos_word in pos_words:\n",
        "        pos_word = strip_punctuation(pos_word)\n",
        "        if pos_word.lower() in positive_words:\n",
        "            pos_counter += 1\n",
        "    return pos_counter\n",
        "\n",
        "def get_neg(neg):\n",
        "    neg_counter = 0\n",
        "    neg_words = neg.split()\n",
        "    for neg_word in neg_words:\n",
        "        neg_word = strip_punctuation(neg_word)\n",
        "        if neg_word in negative_words:\n",
        "            neg_counter += 1\n",
        "    return neg_counter\n",
        "\n",
        "def strip_punctuation(words):\n",
        "    for word in words:\n",
        "        if word in punctuation_chars:\n",
        "            words = words.replace(word, \"\")\n",
        "    return words\n",
        "\n",
        "punctuation_chars = [\"'\", '\"', \",\", \".\", \"!\", \":\", \";\", '#', '@']\n",
        "# lists of words to use\n",
        "positive_words = []\n",
        "with open(\"positive_words.txt\") as pos_f:\n",
        "    for lin in pos_f:\n",
        "        if lin[0] != ';' and lin[0] != '\\n':\n",
        "            positive_words.append(lin.strip())\n",
        "\n",
        "\n",
        "negative_words = []\n",
        "with open(\"negative_words.txt\") as pos_f:\n",
        "    for lin in pos_f:\n",
        "        if lin[0] != ';' and lin[0] != '\\n':\n",
        "            negative_words.append(lin.strip())\n",
        "\n",
        "result_file = open(\"resulting_data.csv\", \"w\")\n",
        "result_file.write(\"Number of Retweets, Number of Replies, Positive Score, Negative Score, Net Score\")\n",
        "result_file.write(\"\\n\")\n",
        "\n",
        "twitter_file = open(\"project_twitter_data.csv\", \"r\")\n",
        "lines = twitter_file.readlines()\n",
        "print(lines)\n",
        "\n",
        "header = lines[0]\n",
        "header_name = header.strip().split(',')\n",
        "print(header_name)\n",
        "\n",
        "for row in lines[1:]:\n",
        "    vals = row.strip().split(',')\n",
        "    row_string = \"{},{},{},{},{}\".format(vals[1],vals[2],get_pos(vals[0]),get_neg(vals[0]),get_pos(vals[0])-get_neg(vals[0]))\n",
        "    result_file.write(row_string)\n",
        "    result_file.write('\\n')\n",
        "\n",
        "\n",
        "result_file.close()\n"
      ],
      "metadata": {
        "colab": {
          "base_uri": "https://localhost:8080/",
          "height": 211
        },
        "id": "7FG0SlkweSZF",
        "outputId": "39f2e8e3-6bfb-4b14-a6af-4d061fa7957a"
      },
      "execution_count": null,
      "outputs": [
        {
          "output_type": "error",
          "ename": "FileNotFoundError",
          "evalue": "[Errno 2] No such file or directory: 'positive_words.txt'",
          "traceback": [
            "\u001b[0;31m---------------------------------------------------------------------------\u001b[0m",
            "\u001b[0;31mFileNotFoundError\u001b[0m                         Traceback (most recent call last)",
            "\u001b[0;32m<ipython-input-1-f75a5900bd4f>\u001b[0m in \u001b[0;36m<cell line: 35>\u001b[0;34m()\u001b[0m\n\u001b[1;32m     33\u001b[0m \u001b[0;31m# lists of words to use\u001b[0m\u001b[0;34m\u001b[0m\u001b[0;34m\u001b[0m\u001b[0m\n\u001b[1;32m     34\u001b[0m \u001b[0mpositive_words\u001b[0m \u001b[0;34m=\u001b[0m \u001b[0;34m[\u001b[0m\u001b[0;34m]\u001b[0m\u001b[0;34m\u001b[0m\u001b[0;34m\u001b[0m\u001b[0m\n\u001b[0;32m---> 35\u001b[0;31m \u001b[0;32mwith\u001b[0m \u001b[0mopen\u001b[0m\u001b[0;34m(\u001b[0m\u001b[0;34m\"positive_words.txt\"\u001b[0m\u001b[0;34m)\u001b[0m \u001b[0;32mas\u001b[0m \u001b[0mpos_f\u001b[0m\u001b[0;34m:\u001b[0m\u001b[0;34m\u001b[0m\u001b[0;34m\u001b[0m\u001b[0m\n\u001b[0m\u001b[1;32m     36\u001b[0m     \u001b[0;32mfor\u001b[0m \u001b[0mlin\u001b[0m \u001b[0;32min\u001b[0m \u001b[0mpos_f\u001b[0m\u001b[0;34m:\u001b[0m\u001b[0;34m\u001b[0m\u001b[0;34m\u001b[0m\u001b[0m\n\u001b[1;32m     37\u001b[0m         \u001b[0;32mif\u001b[0m \u001b[0mlin\u001b[0m\u001b[0;34m[\u001b[0m\u001b[0;36m0\u001b[0m\u001b[0;34m]\u001b[0m \u001b[0;34m!=\u001b[0m \u001b[0;34m';'\u001b[0m \u001b[0;32mand\u001b[0m \u001b[0mlin\u001b[0m\u001b[0;34m[\u001b[0m\u001b[0;36m0\u001b[0m\u001b[0;34m]\u001b[0m \u001b[0;34m!=\u001b[0m \u001b[0;34m'\\n'\u001b[0m\u001b[0;34m:\u001b[0m\u001b[0;34m\u001b[0m\u001b[0;34m\u001b[0m\u001b[0m\n",
            "\u001b[0;31mFileNotFoundError\u001b[0m: [Errno 2] No such file or directory: 'positive_words.txt'"
          ]
        }
      ]
    },
    {
      "cell_type": "code",
      "source": [],
      "metadata": {
        "id": "sGluNArre3I9"
      },
      "execution_count": null,
      "outputs": []
    }
  ]
}